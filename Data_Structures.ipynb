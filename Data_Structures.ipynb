{
 "cells": [
  {
   "cell_type": "markdown",
   "metadata": {},
   "source": [
    "# Brief Introduction to Python:"
   ]
  },
  {
   "cell_type": "markdown",
   "metadata": {},
   "source": [
    "~ Defination: Python is a Dynamic, Versatile, easy to write and wide community based Object Oriented Programming Language.  "
   ]
  },
  {
   "cell_type": "markdown",
   "metadata": {},
   "source": [
    "~ Python is a Dynamic Typing Programming Language that means variables can be reassign to Different Data Types which makes python very flexible in assigning data types.\n",
    "example: x = 23(as int) and x = ['a', 'b', 'c'](as list)."
   ]
  },
  {
   "cell_type": "markdown",
   "metadata": {},
   "source": [
    "~ Developed By: Guido Van Rossum  in 1991."
   ]
  },
  {
   "cell_type": "markdown",
   "metadata": {},
   "source": [
    "~ Editor used to learn python: Jupyter Notebook by Anaconda on conda Environment."
   ]
  },
  {
   "cell_type": "markdown",
   "metadata": {},
   "source": [
    "~ Source : https://www.udemy.com/course/complete-python-bootcamp/     --by Jose Portilla"
   ]
  },
  {
   "cell_type": "markdown",
   "metadata": {},
   "source": [
    "~ learned by Bishal Phuyal."
   ]
  },
  {
   "cell_type": "markdown",
   "metadata": {},
   "source": [
    "## Variable Assignment"
   ]
  },
  {
   "cell_type": "markdown",
   "metadata": {},
   "source": [
    "~ By assigning Variables it would be easier to assign the Datatypes.\n",
    "Example: x = 23 (Here: x-is a variable and 23-is a value of that variable)"
   ]
  },
  {
   "cell_type": "markdown",
   "metadata": {},
   "source": [
    "### Rules For Variables Assignment:"
   ]
  },
  {
   "cell_type": "markdown",
   "metadata": {},
   "source": [
    "~ Names Cannot Start with a Number."
   ]
  },
  {
   "cell_type": "markdown",
   "metadata": {},
   "source": [
    "~ There Cannot be space in the Name. (can use '_' instead)."
   ]
  },
  {
   "cell_type": "markdown",
   "metadata": {},
   "source": [
    "~ Can't use symbols like ('\",<>/?|\\(){}[]#@!$%~`^&* ) while assigning the variable name"
   ]
  },
  {
   "cell_type": "markdown",
   "metadata": {},
   "source": [
    "~ Best Practise (PEP8) that names are lowercase."
   ]
  },
  {
   "cell_type": "markdown",
   "metadata": {},
   "source": [
    "~ Avoid using words that have special meaning in python like 'sets', 'dict', 'add' and many more."
   ]
  },
  {
   "cell_type": "markdown",
   "metadata": {},
   "source": [
    "# Data Structures:\n",
    "\n",
    "~ Data Structure are the building blocks of costructing large pieces of codes. Int, Floating points, Strings, Lists, Dictionaries, Tuples, Sets, Booleans and File I/O."
   ]
  },
  {
   "cell_type": "markdown",
   "metadata": {},
   "source": [
    "### 1. Numbers:"
   ]
  },
  {
   "cell_type": "markdown",
   "metadata": {},
   "source": [
    "~ Numbers are every values that are in the number format which are not enclosed in a quotations. Example: x = 23/23.23343 (is a number) but x = \"23\"  (is a string)."
   ]
  },
  {
   "cell_type": "markdown",
   "metadata": {},
   "source": [
    "#### Integers:"
   ]
  },
  {
   "cell_type": "markdown",
   "metadata": {},
   "source": [
    "~ Any number value that doesnot have a decimal value are integers. Example: x=23 (is integer) but x =23.0000 (is a floating point)."
   ]
  },
  {
   "cell_type": "markdown",
   "metadata": {},
   "source": [
    "Real Examples:"
   ]
  },
  {
   "cell_type": "code",
   "execution_count": 506,
   "metadata": {},
   "outputs": [],
   "source": [
    "x = 23 \n",
    "y = 24  #----------assigns the value in variable x and y."
   ]
  },
  {
   "cell_type": "code",
   "execution_count": 507,
   "metadata": {},
   "outputs": [
    {
     "name": "stdout",
     "output_type": "stream",
     "text": [
      "23\n"
     ]
    }
   ],
   "source": [
    "print(x)  #----------prints the value of x."
   ]
  },
  {
   "cell_type": "code",
   "execution_count": 508,
   "metadata": {},
   "outputs": [
    {
     "data": {
      "text/plain": [
       "int"
      ]
     },
     "execution_count": 508,
     "metadata": {},
     "output_type": "execute_result"
    }
   ],
   "source": [
    "type(x)   #-----------shows the datatype of the variable."
   ]
  },
  {
   "cell_type": "code",
   "execution_count": 509,
   "metadata": {},
   "outputs": [
    {
     "name": "stdout",
     "output_type": "stream",
     "text": [
      "47\n"
     ]
    }
   ],
   "source": [
    "z = x + y  \n",
    "print(z)    #----------adds and print the value of given variable."
   ]
  },
  {
   "cell_type": "markdown",
   "metadata": {},
   "source": [
    "#### Floating Points:"
   ]
  },
  {
   "cell_type": "markdown",
   "metadata": {},
   "source": [
    "~ Any Number value that have decimal point on it is assigned as Floating pooing."
   ]
  },
  {
   "cell_type": "markdown",
   "metadata": {},
   "source": [
    "Real Examples:"
   ]
  },
  {
   "cell_type": "code",
   "execution_count": 510,
   "metadata": {},
   "outputs": [],
   "source": [
    "f = 23.000099234  #----------assigns float value to the variable name f."
   ]
  },
  {
   "cell_type": "code",
   "execution_count": 511,
   "metadata": {},
   "outputs": [
    {
     "name": "stdout",
     "output_type": "stream",
     "text": [
      "23.000099234\n"
     ]
    }
   ],
   "source": [
    "print(f)  #----------------prints the value of f."
   ]
  },
  {
   "cell_type": "code",
   "execution_count": 512,
   "metadata": {},
   "outputs": [
    {
     "data": {
      "text/plain": [
       "float"
      ]
     },
     "execution_count": 512,
     "metadata": {},
     "output_type": "execute_result"
    }
   ],
   "source": [
    "type(f)  #----------------shows the datatype of the variable."
   ]
  },
  {
   "cell_type": "code",
   "execution_count": 513,
   "metadata": {},
   "outputs": [
    {
     "data": {
      "text/plain": [
       "False"
      ]
     },
     "execution_count": 513,
     "metadata": {},
     "output_type": "execute_result"
    }
   ],
   "source": [
    "f.is_integer()  #--------------Boolean value to say the variable is integer or not."
   ]
  },
  {
   "cell_type": "markdown",
   "metadata": {},
   "source": [
    "### 2. Strings:"
   ]
  },
  {
   "cell_type": "markdown",
   "metadata": {},
   "source": [
    "~ Any sequence of character, using the syntax of quotaiion(single or double)."
   ]
  },
  {
   "cell_type": "markdown",
   "metadata": {},
   "source": [
    "~ Strings are ordered sequence, can use indexing and slicing to grab sub-section of the string."
   ]
  },
  {
   "cell_type": "markdown",
   "metadata": {},
   "source": [
    "Examples: \"Hello World\", 'h', \"23\", \"23.000099234\" all are string if they are enclosed inside a quotation marks."
   ]
  },
  {
   "cell_type": "markdown",
   "metadata": {},
   "source": [
    "Real Examples:"
   ]
  },
  {
   "cell_type": "code",
   "execution_count": 514,
   "metadata": {},
   "outputs": [],
   "source": [
    "my_string = \"HELLO\"  #---------------assigns the value to the variable."
   ]
  },
  {
   "cell_type": "code",
   "execution_count": 515,
   "metadata": {},
   "outputs": [
    {
     "name": "stdout",
     "output_type": "stream",
     "text": [
      "HELLO\n"
     ]
    }
   ],
   "source": [
    "print(my_string)   #------------------------prints the string value of the variable."
   ]
  },
  {
   "cell_type": "code",
   "execution_count": 516,
   "metadata": {},
   "outputs": [
    {
     "data": {
      "text/plain": [
       "str"
      ]
     },
     "execution_count": 516,
     "metadata": {},
     "output_type": "execute_result"
    }
   ],
   "source": [
    "type(my_string)    #------------------------shows the datatype of the variable."
   ]
  },
  {
   "cell_type": "markdown",
   "metadata": {},
   "source": [
    "#### Indexing:"
   ]
  },
  {
   "cell_type": "markdown",
   "metadata": {},
   "source": [
    "~ Indexing notation uses [] notation after the string."
   ]
  },
  {
   "cell_type": "markdown",
   "metadata": {},
   "source": [
    "~ Syntax => variable[index]"
   ]
  },
  {
   "cell_type": "markdown",
   "metadata": {},
   "source": [
    "~ It allows, to grab a single character from the string."
   ]
  },
  {
   "cell_type": "markdown",
   "metadata": {},
   "source": [
    "Example: "
   ]
  },
  {
   "cell_type": "markdown",
   "metadata": {},
   "source": [
    "Character(index): H(0) E(1) L(2) L(3) O(4)"
   ]
  },
  {
   "cell_type": "markdown",
   "metadata": {},
   "source": [
    "Character(reverse index): H(0) E(-4) L(-3) L(-2) O(-1)"
   ]
  },
  {
   "cell_type": "code",
   "execution_count": 517,
   "metadata": {},
   "outputs": [
    {
     "name": "stdout",
     "output_type": "stream",
     "text": [
      "H\n"
     ]
    }
   ],
   "source": [
    "print(my_string[0])   #---------------------prints the first letter of the value. (indexing)"
   ]
  },
  {
   "cell_type": "code",
   "execution_count": 518,
   "metadata": {},
   "outputs": [
    {
     "name": "stdout",
     "output_type": "stream",
     "text": [
      "O\n"
     ]
    }
   ],
   "source": [
    "print(my_string[-1])  #---------------------prints last letter of the value as of reverse index.(indexing)"
   ]
  },
  {
   "cell_type": "markdown",
   "metadata": {},
   "source": [
    "#### Slicing:"
   ]
  },
  {
   "cell_type": "markdown",
   "metadata": {},
   "source": [
    "~ Slicing alloes to grab a sub section of multiple character, a slice of the string."
   ]
  },
  {
   "cell_type": "markdown",
   "metadata": {},
   "source": [
    "~ syntax => variable[start: stop: step]"
   ]
  },
  {
   "cell_type": "markdown",
   "metadata": {},
   "source": [
    "~ Example:"
   ]
  },
  {
   "cell_type": "code",
   "execution_count": 519,
   "metadata": {},
   "outputs": [
    {
     "name": "stdout",
     "output_type": "stream",
     "text": [
      "HELLO\n",
      "HELLO\n"
     ]
    }
   ],
   "source": [
    " print(my_string)      #----------original string.\n",
    "print(my_string[0:])  #--------------prints the slice of value from index number '0' towards end without step."
   ]
  },
  {
   "cell_type": "code",
   "execution_count": 520,
   "metadata": {},
   "outputs": [
    {
     "name": "stdout",
     "output_type": "stream",
     "text": [
      "HELLO\n",
      "LLO\n"
     ]
    }
   ],
   "source": [
    "print(my_string)      #----------original string.\n",
    "print(my_string[-3:])  #............prints the slice of value from index number '-3' towards end without step."
   ]
  },
  {
   "cell_type": "code",
   "execution_count": 521,
   "metadata": {},
   "outputs": [
    {
     "name": "stdout",
     "output_type": "stream",
     "text": [
      "HELLO\n",
      "HELL\n"
     ]
    }
   ],
   "source": [
    "print(my_string)      #----------original string.\n",
    "print(my_string[:-1])  #...........prints the slice of value upto the index number '-1' but not '-1'."
   ]
  },
  {
   "cell_type": "code",
   "execution_count": 522,
   "metadata": {},
   "outputs": [
    {
     "name": "stdout",
     "output_type": "stream",
     "text": [
      "HELLO\n",
      "HLO\n"
     ]
    }
   ],
   "source": [
    "print(my_string)      #----------original string.\n",
    "print(my_string[::2])  #.........prints by stepping 2 i.e, it leaves every even slice."
   ]
  },
  {
   "cell_type": "code",
   "execution_count": 523,
   "metadata": {},
   "outputs": [
    {
     "name": "stdout",
     "output_type": "stream",
     "text": [
      "HELLO\n",
      "OLLEH\n"
     ]
    }
   ],
   "source": [
    "print(my_string)      #----------original string.\n",
    "print(my_string[::-1]) #-----------TO reverse the string. "
   ]
  },
  {
   "cell_type": "code",
   "execution_count": 524,
   "metadata": {},
   "outputs": [
    {
     "name": "stdout",
     "output_type": "stream",
     "text": [
      "HELLO\n",
      "HEL \n",
      " LO\n"
     ]
    }
   ],
   "source": [
    "print(my_string)      #----------original string.\n",
    "print('HEL \\n LO')    #----------- '\\n' to break the line."
   ]
  },
  {
   "cell_type": "code",
   "execution_count": 525,
   "metadata": {},
   "outputs": [
    {
     "name": "stdout",
     "output_type": "stream",
     "text": [
      "HELLO\n",
      "HEL \t LO\n"
     ]
    }
   ],
   "source": [
    "print(my_string)      #----------original string.\n",
    "print('HEL \\t LO')    #---------- '\\t' to make a table view."
   ]
  },
  {
   "cell_type": "markdown",
   "metadata": {},
   "source": [
    "#### String Methods:"
   ]
  },
  {
   "cell_type": "code",
   "execution_count": 526,
   "metadata": {},
   "outputs": [],
   "source": [
    "x = \"Hello World\""
   ]
  },
  {
   "cell_type": "code",
   "execution_count": 527,
   "metadata": {},
   "outputs": [
    {
     "name": "stdout",
     "output_type": "stream",
     "text": [
      "Hello World\n",
      "Hello world\n"
     ]
    }
   ],
   "source": [
    "print(x)               #----------original string.\n",
    "print(x.capitalize())  #-----------------Capitalizes the first letter"
   ]
  },
  {
   "cell_type": "code",
   "execution_count": 528,
   "metadata": {},
   "outputs": [
    {
     "name": "stdout",
     "output_type": "stream",
     "text": [
      "Hello World\n",
      "hello world\n"
     ]
    }
   ],
   "source": [
    "print(x)               #----------original string.\n",
    "print(x.casefold())   #-----------uncapitalized everything."
   ]
  },
  {
   "cell_type": "code",
   "execution_count": 529,
   "metadata": {},
   "outputs": [
    {
     "name": "stdout",
     "output_type": "stream",
     "text": [
      "Hello World\n",
      "aaHello Worldaaa\n"
     ]
    }
   ],
   "source": [
    "print(x)               #----------original string.\n",
    "print(x.center(16, 'a'))  #------------centralizes the text by adding given letter to start and end."
   ]
  },
  {
   "cell_type": "code",
   "execution_count": 530,
   "metadata": {},
   "outputs": [
    {
     "name": "stdout",
     "output_type": "stream",
     "text": [
      "Hello World\n",
      "3\n"
     ]
    }
   ],
   "source": [
    "print(x)               #----------original string.\n",
    "print(x.count('l'))   #-----------counts the number of given letter."
   ]
  },
  {
   "cell_type": "code",
   "execution_count": 531,
   "metadata": {},
   "outputs": [
    {
     "name": "stdout",
     "output_type": "stream",
     "text": [
      "b'\\\\xe5 is a'\n",
      "b' is a'\n",
      "b'\\\\N{LATIN SMALL LETTER A WITH RING ABOVE} is a'\n",
      "b'? is a'\n",
      "b'&#229; is a'\n"
     ]
    }
   ],
   "source": [
    "ed = 'å is a'                                                    #------------------original string.\n",
    "print(ed.encode(encoding=\"ascii\",errors=\"backslashreplace\"))     #-------uses backslash as error if not ascii.\n",
    "print(ed.encode(encoding=\"ascii\",errors=\"ignore\"))               #-------ignores error if not ascii.\n",
    "print(ed.encode(encoding=\"ascii\",errors=\"namereplace\"))          #-------replace the name as error if not ascii.\n",
    "print(ed.encode(encoding=\"ascii\",errors=\"replace\"))              #-------uses '?' as error if not ascii.\n",
    "print(ed.encode(encoding=\"ascii\",errors=\"xmlcharrefreplace\"))    #-------uses xml as error if not ascii."
   ]
  },
  {
   "cell_type": "code",
   "execution_count": 532,
   "metadata": {},
   "outputs": [
    {
     "name": "stdout",
     "output_type": "stream",
     "text": [
      "Hello World\n",
      "Hello World\n"
     ]
    }
   ],
   "source": [
    "print(x)                 #----------original string.\n",
    "print(x.expandtabs(3))   #----------expands tabs between letter."
   ]
  },
  {
   "cell_type": "code",
   "execution_count": 533,
   "metadata": {},
   "outputs": [
    {
     "name": "stdout",
     "output_type": "stream",
     "text": [
      "Hello World\n",
      "6\n"
     ]
    }
   ],
   "source": [
    "print(x)               #----------original string.\n",
    "print(x.find('W'))     #----------finds the index number of given letter."
   ]
  },
  {
   "cell_type": "code",
   "execution_count": 534,
   "metadata": {},
   "outputs": [
    {
     "name": "stdout",
     "output_type": "stream",
     "text": [
      "My message is: \t Hello World\n",
      "My message is: \t Hello World\n"
     ]
    }
   ],
   "source": [
    "print(\"My message is: \\t {mess}\".format(mess=x))   #-------------older ways to use format.\n",
    "print(f\"My message is: \\t {x}\")                #-------------newer ways to use format."
   ]
  },
  {
   "cell_type": "code",
   "execution_count": 535,
   "metadata": {},
   "outputs": [
    {
     "name": "stdout",
     "output_type": "stream",
     "text": [
      "Hello World\n",
      "6\n"
     ]
    }
   ],
   "source": [
    "print(x)                #----------original string.\n",
    "print(x.index(\"World\")) #----------especially finds the word (same as 'find' method)."
   ]
  },
  {
   "cell_type": "code",
   "execution_count": 536,
   "metadata": {},
   "outputs": [
    {
     "data": {
      "text/plain": [
       "True"
      ]
     },
     "execution_count": 536,
     "metadata": {},
     "output_type": "execute_result"
    }
   ],
   "source": [
    "x.startswith('H')       #- Boolean string methods----string starts with the given letter or not."
   ]
  },
  {
   "cell_type": "code",
   "execution_count": 537,
   "metadata": {},
   "outputs": [
    {
     "data": {
      "text/plain": [
       "True"
      ]
     },
     "execution_count": 537,
     "metadata": {},
     "output_type": "execute_result"
    }
   ],
   "source": [
    "x.endswith('d')       #----Boolean string methods------- string ends with the given letter or not."
   ]
  },
  {
   "cell_type": "code",
   "execution_count": 538,
   "metadata": {},
   "outputs": [
    {
     "data": {
      "text/plain": [
       "False"
      ]
     },
     "execution_count": 538,
     "metadata": {},
     "output_type": "execute_result"
    }
   ],
   "source": [
    "x.isalnum()       #-----Boolean string methods------ string have any number or not."
   ]
  },
  {
   "cell_type": "code",
   "execution_count": 539,
   "metadata": {},
   "outputs": [
    {
     "data": {
      "text/plain": [
       "True"
      ]
     },
     "execution_count": 539,
     "metadata": {},
     "output_type": "execute_result"
    }
   ],
   "source": [
    "x.isascii()         #---Boolean string methods----- string have all ascii encoding or not."
   ]
  },
  {
   "cell_type": "code",
   "execution_count": 540,
   "metadata": {},
   "outputs": [
    {
     "data": {
      "text/plain": [
       "False"
      ]
     },
     "execution_count": 540,
     "metadata": {},
     "output_type": "execute_result"
    }
   ],
   "source": [
    "x.isdecimal()       #---Boolean string methods----- string have decimal value or not."
   ]
  },
  {
   "cell_type": "code",
   "execution_count": 541,
   "metadata": {},
   "outputs": [
    {
     "data": {
      "text/plain": [
       "False"
      ]
     },
     "execution_count": 541,
     "metadata": {},
     "output_type": "execute_result"
    }
   ],
   "source": [
    "x.islower()           #---Boolean string methods------ string have all letter lowercase or not."
   ]
  },
  {
   "cell_type": "code",
   "execution_count": 542,
   "metadata": {},
   "outputs": [
    {
     "data": {
      "text/plain": [
       "False"
      ]
     },
     "execution_count": 542,
     "metadata": {},
     "output_type": "execute_result"
    }
   ],
   "source": [
    "x.isnumeric()         #---Boolean string methods---- string have every value number or not."
   ]
  },
  {
   "cell_type": "code",
   "execution_count": 543,
   "metadata": {},
   "outputs": [
    {
     "data": {
      "text/plain": [
       "True"
      ]
     },
     "execution_count": 543,
     "metadata": {},
     "output_type": "execute_result"
    }
   ],
   "source": [
    "x.isprintable()       #---Boolean string methods---- string is printable or not."
   ]
  },
  {
   "cell_type": "code",
   "execution_count": 544,
   "metadata": {},
   "outputs": [
    {
     "data": {
      "text/plain": [
       "False"
      ]
     },
     "execution_count": 544,
     "metadata": {},
     "output_type": "execute_result"
    }
   ],
   "source": [
    "x.isspace()        #---Boolean string methods--- string only have space or not."
   ]
  },
  {
   "cell_type": "code",
   "execution_count": 545,
   "metadata": {},
   "outputs": [
    {
     "data": {
      "text/plain": [
       "True"
      ]
     },
     "execution_count": 545,
     "metadata": {},
     "output_type": "execute_result"
    }
   ],
   "source": [
    "x.istitle()          #---Boolean string methods---- string is title or not."
   ]
  },
  {
   "cell_type": "code",
   "execution_count": 546,
   "metadata": {},
   "outputs": [
    {
     "data": {
      "text/plain": [
       "False"
      ]
     },
     "execution_count": 546,
     "metadata": {},
     "output_type": "execute_result"
    }
   ],
   "source": [
    "x.isupper()         #-----Boolean string methods---- string have all letter upercase or not."
   ]
  },
  {
   "cell_type": "code",
   "execution_count": 547,
   "metadata": {},
   "outputs": [
    {
     "name": "stdout",
     "output_type": "stream",
     "text": [
      "Hello World\n",
      "H#e#l#l#o# #W#o#r#l#d\n"
     ]
    }
   ],
   "source": [
    "print(x)                #----------original string.\n",
    "print('#'.join(x))        #----------------------joins every letter of string with given letter or synbol."
   ]
  },
  {
   "cell_type": "code",
   "execution_count": 548,
   "metadata": {},
   "outputs": [
    {
     "name": "stdout",
     "output_type": "stream",
     "text": [
      "Hello World\n",
      "Hello World         \n"
     ]
    }
   ],
   "source": [
    "print(x)                #----------original string.\n",
    "print(x.ljust(20))        #------------------------left justify by 20 spaces."
   ]
  },
  {
   "cell_type": "code",
   "execution_count": 549,
   "metadata": {},
   "outputs": [
    {
     "name": "stdout",
     "output_type": "stream",
     "text": [
      "Hello World\n",
      "hello world\n"
     ]
    }
   ],
   "source": [
    "print(x)                #----------original string.\n",
    "print(x.lower())        #-----------lowercase everything in the string."
   ]
  },
  {
   "cell_type": "code",
   "execution_count": 550,
   "metadata": {},
   "outputs": [
    {
     "name": "stdout",
     "output_type": "stream",
     "text": [
      "Hello World\n",
      "Hello World\n"
     ]
    }
   ],
   "source": [
    "print(x)                #----------original string.\n",
    "print(x.lstrip())        #----------removes the space to the left."
   ]
  },
  {
   "cell_type": "code",
   "execution_count": 551,
   "metadata": {},
   "outputs": [
    {
     "name": "stdout",
     "output_type": "stream",
     "text": [
      "Hello World\n",
      "('Hello ', 'World', '')\n"
     ]
    }
   ],
   "source": [
    "print(x)                     #----------original string.\n",
    "print(x.partition('World'))  #-----------searches the word or letter and make partition to it."
   ]
  },
  {
   "cell_type": "code",
   "execution_count": 552,
   "metadata": {},
   "outputs": [
    {
     "name": "stdout",
     "output_type": "stream",
     "text": [
      "Hello World\n",
      "Hello Globe\n"
     ]
    }
   ],
   "source": [
    "print(x)                              #----------original string.\n",
    "print(x.replace('World', 'Globe'))   #-------------Replaces the world from Globe."
   ]
  },
  {
   "cell_type": "code",
   "execution_count": 553,
   "metadata": {},
   "outputs": [
    {
     "name": "stdout",
     "output_type": "stream",
     "text": [
      "Hello World\n",
      "9\n"
     ]
    }
   ],
   "source": [
    "print(x)                              #----------original string.\n",
    "print(x.rfind('l'))                 #----------finds the index number of given letter from right."
   ]
  },
  {
   "cell_type": "code",
   "execution_count": 554,
   "metadata": {},
   "outputs": [
    {
     "name": "stdout",
     "output_type": "stream",
     "text": [
      "Hello World\n",
      "('Hello Wor', 'l', 'd')\n"
     ]
    }
   ],
   "source": [
    "print(x)                              #----------original string.\n",
    "print(x.rpartition('l'))              #-----------searches the word or letter and make partition to it from right."
   ]
  },
  {
   "cell_type": "code",
   "execution_count": 555,
   "metadata": {},
   "outputs": [
    {
     "name": "stdout",
     "output_type": "stream",
     "text": [
      "Hello World\n",
      "['Hello', 'World']\n"
     ]
    }
   ],
   "source": [
    "print(x)                              #----------original string.\n",
    "print(x.rsplit(' '))                   #----------splits string to list from right with space' '."
   ]
  },
  {
   "cell_type": "code",
   "execution_count": 556,
   "metadata": {},
   "outputs": [
    {
     "name": "stdout",
     "output_type": "stream",
     "text": [
      "Hello World\n",
      "Hello World\n"
     ]
    }
   ],
   "source": [
    "print(x)                              #----------original string.\n",
    "print(x.rstrip())                     #----------removes the spaces from the right."
   ]
  },
  {
   "cell_type": "code",
   "execution_count": 557,
   "metadata": {},
   "outputs": [
    {
     "name": "stdout",
     "output_type": "stream",
     "text": [
      "Hello World\n",
      "['Hello', 'World']\n"
     ]
    }
   ],
   "source": [
    "print(x)                              #----------original string.\n",
    "print(x.split())                      #-----------splits the string to the list."
   ]
  },
  {
   "cell_type": "code",
   "execution_count": 558,
   "metadata": {},
   "outputs": [
    {
     "name": "stdout",
     "output_type": "stream",
     "text": [
      "Hello\n",
      "World\n",
      "['Hello', 'World']\n"
     ]
    }
   ],
   "source": [
    "print('Hello\\nWorld')                              #----------original string.\n",
    "print('Hello\\nWorld'.splitlines())                 #----------split string to list on line break."
   ]
  },
  {
   "cell_type": "code",
   "execution_count": 559,
   "metadata": {},
   "outputs": [
    {
     "name": "stdout",
     "output_type": "stream",
     "text": [
      "Hello World\n",
      "Hello World\n"
     ]
    }
   ],
   "source": [
    "print(x)                              #----------original string.\n",
    "print(x.strip())                      #----------removes the space from both left and right.              "
   ]
  },
  {
   "cell_type": "code",
   "execution_count": 560,
   "metadata": {},
   "outputs": [
    {
     "name": "stdout",
     "output_type": "stream",
     "text": [
      "Hello World\n",
      "hELLO wORLD\n"
     ]
    }
   ],
   "source": [
    "print(x)                            #----------original string.\n",
    "print(x.swapcase())                 #----------changes letter from lower to upper and upper to lower.    "
   ]
  },
  {
   "cell_type": "code",
   "execution_count": 561,
   "metadata": {},
   "outputs": [
    {
     "name": "stdout",
     "output_type": "stream",
     "text": [
      "Hello World\n",
      "Hello World\n"
     ]
    }
   ],
   "source": [
    "print(x)                          #----------original string.\n",
    "print(x.title())                  #-----------changes string to title.  "
   ]
  },
  {
   "cell_type": "code",
   "execution_count": 562,
   "metadata": {},
   "outputs": [
    {
     "name": "stdout",
     "output_type": "stream",
     "text": [
      "Hello World\n",
      "HELLO WORLD\n"
     ]
    }
   ],
   "source": [
    "print(x)                         #----------original string.\n",
    "print(x.upper())                 #-----------changes every letter to uppercase."
   ]
  },
  {
   "cell_type": "code",
   "execution_count": 563,
   "metadata": {},
   "outputs": [
    {
     "name": "stdout",
     "output_type": "stream",
     "text": [
      "Hello World\n",
      "000000Hello World\n"
     ]
    }
   ],
   "source": [
    "print(x)                         #----------original string.\n",
    "print(x.zfill(17))              #-----------fills the string with '0' from begining upto the given number."
   ]
  },
  {
   "cell_type": "markdown",
   "metadata": {},
   "source": [
    "### 3. Lists:"
   ]
  },
  {
   "cell_type": "markdown",
   "metadata": {},
   "source": [
    "~ Lists are ordered sequence that can hold a variety of object types."
   ]
  },
  {
   "cell_type": "markdown",
   "metadata": {},
   "source": [
    "~ Lists uses [] brackets and commas to seprate objects in List."
   ]
  },
  {
   "cell_type": "markdown",
   "metadata": {},
   "source": [
    "~ Supports indexing and slicing."
   ]
  },
  {
   "cell_type": "markdown",
   "metadata": {},
   "source": [
    "~ Lists are mutable i.e, value can be changed."
   ]
  },
  {
   "cell_type": "markdown",
   "metadata": {},
   "source": [
    "Example:\n"
   ]
  },
  {
   "cell_type": "code",
   "execution_count": 564,
   "metadata": {},
   "outputs": [],
   "source": [
    "my_list = [1,2,3,\"Hello\", 23.2394, ['a', 'b', 'c']]     #---------------assigns the value to the list."
   ]
  },
  {
   "cell_type": "code",
   "execution_count": 565,
   "metadata": {},
   "outputs": [
    {
     "name": "stdout",
     "output_type": "stream",
     "text": [
      "<class 'list'>\n"
     ]
    }
   ],
   "source": [
    "print(type(my_list))                    #--------------------shows the type of variable."
   ]
  },
  {
   "cell_type": "code",
   "execution_count": 566,
   "metadata": {},
   "outputs": [
    {
     "name": "stdout",
     "output_type": "stream",
     "text": [
      "6\n"
     ]
    }
   ],
   "source": [
    "print(len(my_list))                    #---------------------gives the length of the list."
   ]
  },
  {
   "cell_type": "code",
   "execution_count": 567,
   "metadata": {},
   "outputs": [
    {
     "name": "stdout",
     "output_type": "stream",
     "text": [
      "[1, 2, 3, 'Hello', 23.2394, ['a', 'b', 'c'], 'World', 'a', 'b']\n"
     ]
    }
   ],
   "source": [
    "print(my_list + [\"World\", 'a', 'b'])     #----------------------Concatenation."
   ]
  },
  {
   "cell_type": "code",
   "execution_count": 568,
   "metadata": {},
   "outputs": [],
   "source": [
    "my_list[0] = 'one'                      #-----------------------List are mutable; value can be chaged."
   ]
  },
  {
   "cell_type": "markdown",
   "metadata": {},
   "source": [
    "#### List Methods:"
   ]
  },
  {
   "cell_type": "code",
   "execution_count": 569,
   "metadata": {},
   "outputs": [
    {
     "name": "stdout",
     "output_type": "stream",
     "text": [
      "['one', 2, 3, 'Hello', 23.2394, ['a', 'b', 'c'], 'z']\n"
     ]
    }
   ],
   "source": [
    "my_list.append('z') #---------------------------appends values to the list.\n",
    "print(my_list)"
   ]
  },
  {
   "cell_type": "code",
   "execution_count": 570,
   "metadata": {},
   "outputs": [
    {
     "data": {
      "text/plain": [
       "1"
      ]
     },
     "execution_count": 570,
     "metadata": {},
     "output_type": "execute_result"
    }
   ],
   "source": [
    "my_list.count('z')     #-----------------------counts the number of given value available in list."
   ]
  },
  {
   "cell_type": "code",
   "execution_count": 571,
   "metadata": {},
   "outputs": [
    {
     "name": "stdout",
     "output_type": "stream",
     "text": [
      "['one', 2, 3, 'Hello', 23.2394, ['a', 'b', 'c'], 'z']\n"
     ]
    }
   ],
   "source": [
    "print(my_list.copy())    #---------------------------copies the value of list."
   ]
  },
  {
   "cell_type": "code",
   "execution_count": 572,
   "metadata": {},
   "outputs": [
    {
     "name": "stdout",
     "output_type": "stream",
     "text": [
      "['one', 2, 3, 'Hello', 23.2394, ['a', 'b', 'c'], 'z', 22, 23, 24]\n"
     ]
    }
   ],
   "source": [
    "my_list.extend([22, 23,24])   #-----------------------extends the given value to the list.\n",
    "print(my_list)"
   ]
  },
  {
   "cell_type": "code",
   "execution_count": 573,
   "metadata": {},
   "outputs": [
    {
     "data": {
      "text/plain": [
       "3"
      ]
     },
     "execution_count": 573,
     "metadata": {},
     "output_type": "execute_result"
    }
   ],
   "source": [
    "my_list.index('Hello')     #---------------------provides the index number of given value."
   ]
  },
  {
   "cell_type": "code",
   "execution_count": 574,
   "metadata": {},
   "outputs": [
    {
     "name": "stdout",
     "output_type": "stream",
     "text": [
      "['zero', 'one', 2, 3, 'Hello', 23.2394, ['a', 'b', 'c'], 'z', 22, 23, 24]\n"
     ]
    }
   ],
   "source": [
    "my_list.insert(0, 'zero')   #--------------------inserts the given value in the given index number.\n",
    "print(my_list)"
   ]
  },
  {
   "cell_type": "code",
   "execution_count": 575,
   "metadata": {},
   "outputs": [
    {
     "data": {
      "text/plain": [
       "24"
      ]
     },
     "execution_count": 575,
     "metadata": {},
     "output_type": "execute_result"
    }
   ],
   "source": [
    "my_list.pop()             #-------------------pops out the last item from list."
   ]
  },
  {
   "cell_type": "code",
   "execution_count": 576,
   "metadata": {},
   "outputs": [
    {
     "data": {
      "text/plain": [
       "23.2394"
      ]
     },
     "execution_count": 576,
     "metadata": {},
     "output_type": "execute_result"
    }
   ],
   "source": [
    "my_list.pop(5)               #-----------------pops out the given index item from list."
   ]
  },
  {
   "cell_type": "code",
   "execution_count": 577,
   "metadata": {},
   "outputs": [],
   "source": [
    "my_list.remove('one')        #------------------removes the given item from the list."
   ]
  },
  {
   "cell_type": "code",
   "execution_count": 578,
   "metadata": {},
   "outputs": [
    {
     "name": "stdout",
     "output_type": "stream",
     "text": [
      "[23, 22, 'z', ['a', 'b', 'c'], 'Hello', 3, 2, 'zero']\n"
     ]
    }
   ],
   "source": [
    "my_list.reverse()                   #----------------------reverse the list's item position.\n",
    "print(my_list)"
   ]
  },
  {
   "cell_type": "code",
   "execution_count": 579,
   "metadata": {},
   "outputs": [],
   "source": [
    "my_list.clear()                      #--------------------------------clears all item in list"
   ]
  },
  {
   "cell_type": "code",
   "execution_count": 580,
   "metadata": {},
   "outputs": [
    {
     "name": "stdout",
     "output_type": "stream",
     "text": [
      "[1, 2, 3, 4, 5, 6, 7, 8, 9]\n"
     ]
    }
   ],
   "source": [
    "my_list = [2,5,4,6,9,1,3,7,8]\n",
    "\n",
    "my_list.sort()                      #----------------sorts the list in ascending order if it is in number only.\n",
    "print(my_list)"
   ]
  },
  {
   "cell_type": "code",
   "execution_count": 581,
   "metadata": {},
   "outputs": [
    {
     "name": "stdout",
     "output_type": "stream",
     "text": [
      "[9, 8, 7, 6, 5, 4, 3, 2, 1]\n"
     ]
    }
   ],
   "source": [
    "my_list.sort(reverse=True)            #------------------reverse the list in sort manner.\n",
    "print(my_list)"
   ]
  },
  {
   "cell_type": "code",
   "execution_count": 582,
   "metadata": {},
   "outputs": [],
   "source": [
    "#     my_list.sort(key = _____)           #------------------acts according to the function."
   ]
  },
  {
   "cell_type": "markdown",
   "metadata": {},
   "source": [
    "### 4. Dictionaries:"
   ]
  },
  {
   "cell_type": "markdown",
   "metadata": {},
   "source": [
    "~ Dictionaries are unordered mapping for storing objects."
   ]
  },
  {
   "cell_type": "markdown",
   "metadata": {},
   "source": [
    "~ They uses a key-value pairing instead."
   ]
  },
  {
   "cell_type": "markdown",
   "metadata": {},
   "source": [
    "~ Key-value pair allows users to quickly grab objects without the need of an index location."
   ]
  },
  {
   "cell_type": "markdown",
   "metadata": {},
   "source": [
    "~ Dictionaries are objects retrived by key name. They are unordered and cannot be stored."
   ]
  },
  {
   "cell_type": "markdown",
   "metadata": {},
   "source": [
    "~ Syntax =>  {'key1':'value1', 'key2':'value2', 'key3':'value3'}"
   ]
  },
  {
   "cell_type": "markdown",
   "metadata": {},
   "source": [
    "~ Dictionarie can have list and nested dictionarie inside it as =>  {'l1':{[1,2,3,4,]}, 'd2':{'d21':{'a','b'}, 'd22':{1,2,3}}"
   ]
  },
  {
   "cell_type": "markdown",
   "metadata": {},
   "source": [
    "Example:"
   ]
  },
  {
   "cell_type": "code",
   "execution_count": 583,
   "metadata": {},
   "outputs": [],
   "source": [
    "my_dict = {'apple':234, 'banana':300, 'mango':400}"
   ]
  },
  {
   "cell_type": "code",
   "execution_count": 584,
   "metadata": {},
   "outputs": [
    {
     "name": "stdout",
     "output_type": "stream",
     "text": [
      "{'apple': 234, 'banana': 300, 'mango': 400, 'oranges': 200}\n"
     ]
    }
   ],
   "source": [
    "my_dict['oranges'] = 200          #---------------------adds new value with key in the dictionarie.\n",
    "print(my_dict)"
   ]
  },
  {
   "cell_type": "markdown",
   "metadata": {},
   "source": [
    "#### Dictionarie Methods:"
   ]
  },
  {
   "cell_type": "code",
   "execution_count": 585,
   "metadata": {},
   "outputs": [
    {
     "name": "stdout",
     "output_type": "stream",
     "text": [
      "{'apple': 234, 'banana': 300, 'mango': 400, 'oranges': 200}\n"
     ]
    }
   ],
   "source": [
    "print(my_dict.copy())             #--------------copies the value with key of the dictionarie."
   ]
  },
  {
   "cell_type": "code",
   "execution_count": 586,
   "metadata": {},
   "outputs": [
    {
     "name": "stdout",
     "output_type": "stream",
     "text": [
      "234\n"
     ]
    }
   ],
   "source": [
    "print(my_dict.get('apple'))          #----------------returns the value of the given key."
   ]
  },
  {
   "cell_type": "code",
   "execution_count": 587,
   "metadata": {},
   "outputs": [
    {
     "name": "stdout",
     "output_type": "stream",
     "text": [
      "{'apple': 234, 'banana': 300, 'oranges': 200}\n"
     ]
    }
   ],
   "source": [
    "my_dict.pop('mango')                    #-----------------removes the  given key value.\n",
    "print(my_dict)"
   ]
  },
  {
   "cell_type": "code",
   "execution_count": 588,
   "metadata": {},
   "outputs": [
    {
     "data": {
      "text/plain": [
       "('oranges', 200)"
      ]
     },
     "execution_count": 588,
     "metadata": {},
     "output_type": "execute_result"
    }
   ],
   "source": [
    "my_dict.popitem()                       #----------------removes the latest added key-value."
   ]
  },
  {
   "cell_type": "code",
   "execution_count": 589,
   "metadata": {},
   "outputs": [
    {
     "data": {
      "text/plain": [
       "234"
      ]
     },
     "execution_count": 589,
     "metadata": {},
     "output_type": "execute_result"
    }
   ],
   "source": [
    "my_dict.setdefault('apple',235)       #--------------returns the value if the key is located."
   ]
  },
  {
   "cell_type": "code",
   "execution_count": 590,
   "metadata": {},
   "outputs": [
    {
     "data": {
      "text/plain": [
       "500"
      ]
     },
     "execution_count": 590,
     "metadata": {},
     "output_type": "execute_result"
    }
   ],
   "source": [
    "my_dict.setdefault('berry',500)       #---------------else adds the key-value pair to the dictionarie."
   ]
  },
  {
   "cell_type": "code",
   "execution_count": 591,
   "metadata": {},
   "outputs": [
    {
     "data": {
      "text/plain": [
       "dict_keys(['apple', 'banana', 'berry'])"
      ]
     },
     "execution_count": 591,
     "metadata": {},
     "output_type": "execute_result"
    }
   ],
   "source": [
    "my_dict.keys()                      #-------------------returns a list containing the dictionaries keys."
   ]
  },
  {
   "cell_type": "code",
   "execution_count": 592,
   "metadata": {},
   "outputs": [
    {
     "data": {
      "text/plain": [
       "dict_values([234, 300, 500])"
      ]
     },
     "execution_count": 592,
     "metadata": {},
     "output_type": "execute_result"
    }
   ],
   "source": [
    "my_dict.values()                  #---------------------returns a list containing the dictionaries values."
   ]
  },
  {
   "cell_type": "code",
   "execution_count": 593,
   "metadata": {},
   "outputs": [
    {
     "data": {
      "text/plain": [
       "dict_items([('apple', 234), ('banana', 300), ('berry', 500)])"
      ]
     },
     "execution_count": 593,
     "metadata": {},
     "output_type": "execute_result"
    }
   ],
   "source": [
    "my_dict.items()                  #--------------------returns a list containing tuple for each key value pair."
   ]
  },
  {
   "cell_type": "code",
   "execution_count": 594,
   "metadata": {},
   "outputs": [
    {
     "name": "stdout",
     "output_type": "stream",
     "text": [
      "{'apple': 234, 'banana': 300, 'berry': 500, 'grapes': 200}\n"
     ]
    }
   ],
   "source": [
    "my_dict.update({'grapes':200})     #----------updates the dictionaries with the specified key-value pair.\n",
    "print(my_dict)"
   ]
  },
  {
   "cell_type": "code",
   "execution_count": 595,
   "metadata": {},
   "outputs": [
    {
     "name": "stdout",
     "output_type": "stream",
     "text": [
      "{'key1': 0, 'key2': 0, 'key3': 0}\n"
     ]
    }
   ],
   "source": [
    "d1 = ('key1', 'key2', 'key3')\n",
    "d2 = 0\n",
    "d3 = dict.fromkeys(d1, d2)      #-----------returns a dictionary with the specified keys and the specified value.\n",
    "print(d3)"
   ]
  },
  {
   "cell_type": "code",
   "execution_count": 596,
   "metadata": {},
   "outputs": [
    {
     "name": "stdout",
     "output_type": "stream",
     "text": [
      "{}\n"
     ]
    }
   ],
   "source": [
    "my_dict.clear()                  #------------clears the dictionarie key-value pair.\n",
    "print(my_dict)"
   ]
  },
  {
   "cell_type": "markdown",
   "metadata": {},
   "source": [
    "### 5. Tuples:"
   ]
  },
  {
   "cell_type": "markdown",
   "metadata": {},
   "source": [
    "~ Tuples are very similar to list but immutability.\n"
   ]
  },
  {
   "cell_type": "markdown",
   "metadata": {},
   "source": [
    "Example:"
   ]
  },
  {
   "cell_type": "code",
   "execution_count": 607,
   "metadata": {},
   "outputs": [],
   "source": [
    "t = (1,2,3,4,5,6,6,\"hello\",7)"
   ]
  },
  {
   "cell_type": "markdown",
   "metadata": {},
   "source": [
    "Methods:"
   ]
  },
  {
   "cell_type": "code",
   "execution_count": 608,
   "metadata": {},
   "outputs": [
    {
     "data": {
      "text/plain": [
       "2"
      ]
     },
     "execution_count": 608,
     "metadata": {},
     "output_type": "execute_result"
    }
   ],
   "source": [
    "t.count(6)                #----------------------counts the number of given item  in tuple."
   ]
  },
  {
   "cell_type": "code",
   "execution_count": 610,
   "metadata": {},
   "outputs": [
    {
     "data": {
      "text/plain": [
       "7"
      ]
     },
     "execution_count": 610,
     "metadata": {},
     "output_type": "execute_result"
    }
   ],
   "source": [
    "t.index(\"hello\")           #---------------------returns the index number of given value."
   ]
  },
  {
   "cell_type": "markdown",
   "metadata": {},
   "source": [
    "### 6. Sets"
   ]
  },
  {
   "cell_type": "markdown",
   "metadata": {},
   "source": [
    "~ Sets are the unordered collections of unique element."
   ]
  },
  {
   "cell_type": "markdown",
   "metadata": {},
   "source": [
    "~ There can only be one representative of the same object."
   ]
  },
  {
   "cell_type": "markdown",
   "metadata": {},
   "source": [
    "Example:"
   ]
  },
  {
   "cell_type": "code",
   "execution_count": 692,
   "metadata": {},
   "outputs": [],
   "source": [
    "my_set = set()                     #-------------------------defines it as a  empty set."
   ]
  },
  {
   "cell_type": "code",
   "execution_count": 693,
   "metadata": {},
   "outputs": [],
   "source": [
    "my_set1 = {'a', 'b', 'c', 'd', 'e'}  #-------------------defines it as a set full of values."
   ]
  },
  {
   "cell_type": "code",
   "execution_count": 694,
   "metadata": {},
   "outputs": [],
   "source": [
    "my_set2 = set({'c', 'd', 'e'})       #-------------------can be defined this way too."
   ]
  },
  {
   "cell_type": "code",
   "execution_count": 695,
   "metadata": {},
   "outputs": [
    {
     "name": "stdout",
     "output_type": "stream",
     "text": [
      "{'d', 'e', 'b', 'c', 'a'}\n"
     ]
    }
   ],
   "source": [
    "print(my_set1)                      #----------------returns the values of set."
   ]
  },
  {
   "cell_type": "code",
   "execution_count": 696,
   "metadata": {},
   "outputs": [
    {
     "data": {
      "text/plain": [
       "set"
      ]
     },
     "execution_count": 696,
     "metadata": {},
     "output_type": "execute_result"
    }
   ],
   "source": [
    "type(my_set1)                      #----------------returns the type of given variable."
   ]
  },
  {
   "cell_type": "markdown",
   "metadata": {},
   "source": [
    "#### Set Methods:"
   ]
  },
  {
   "cell_type": "code",
   "execution_count": 730,
   "metadata": {},
   "outputs": [
    {
     "name": "stdout",
     "output_type": "stream",
     "text": [
      "{'b', 'c', 'a', 'd'}\n"
     ]
    }
   ],
   "source": [
    "my_set.add('a')\n",
    "my_set.add('b') \n",
    "my_set.add('c')\n",
    "my_set.add('d')                      #--------------------------Takes only one argument as the value and adds it.\n",
    "print(my_set)"
   ]
  },
  {
   "cell_type": "code",
   "execution_count": 731,
   "metadata": {},
   "outputs": [
    {
     "data": {
      "text/plain": [
       "{'a', 'b', 'c', 'd'}"
      ]
     },
     "execution_count": 731,
     "metadata": {},
     "output_type": "execute_result"
    }
   ],
   "source": [
    "my_set.copy()           #-------------------------Copies the value of the set."
   ]
  },
  {
   "cell_type": "code",
   "execution_count": 732,
   "metadata": {},
   "outputs": [
    {
     "name": "stdout",
     "output_type": "stream",
     "text": [
      "{'b', 'c', 'd'}\n"
     ]
    }
   ],
   "source": [
    "my_set.discard('a')        #---------------------------Discards 'a' given value from the set.\n",
    "print(my_set)"
   ]
  },
  {
   "cell_type": "code",
   "execution_count": 733,
   "metadata": {},
   "outputs": [
    {
     "data": {
      "text/plain": [
       "'b'"
      ]
     },
     "execution_count": 733,
     "metadata": {},
     "output_type": "execute_result"
    }
   ],
   "source": [
    "my_set.pop()               #-------------------------removes random item from the set."
   ]
  },
  {
   "cell_type": "code",
   "execution_count": 735,
   "metadata": {},
   "outputs": [
    {
     "name": "stdout",
     "output_type": "stream",
     "text": [
      "{'c', 'd'}\n"
     ]
    }
   ],
   "source": [
    "my_set.add('b')\n",
    "my_set.remove('b')             #---------------------removes the given item from set.\n",
    "print(my_set)"
   ]
  },
  {
   "cell_type": "code",
   "execution_count": 721,
   "metadata": {},
   "outputs": [
    {
     "data": {
      "text/plain": [
       "False"
      ]
     },
     "execution_count": 721,
     "metadata": {},
     "output_type": "execute_result"
    }
   ],
   "source": [
    "my_set1.isdisjoint(my_set2)       #---------------Boolean Value----------set 1 is disjoint to set 2 or not."
   ]
  },
  {
   "cell_type": "code",
   "execution_count": 722,
   "metadata": {},
   "outputs": [
    {
     "data": {
      "text/plain": [
       "False"
      ]
     },
     "execution_count": 722,
     "metadata": {},
     "output_type": "execute_result"
    }
   ],
   "source": [
    "my_set1.issubset(my_set2)        #-------------Boolean Value-------------set 1 is sub set of set 2 or not."
   ]
  },
  {
   "cell_type": "code",
   "execution_count": 723,
   "metadata": {},
   "outputs": [
    {
     "data": {
      "text/plain": [
       "True"
      ]
     },
     "execution_count": 723,
     "metadata": {},
     "output_type": "execute_result"
    }
   ],
   "source": [
    "my_set1.issuperset(my_set2)        #-------------Boolean Value-------------set 1 is super set of set 2 or not."
   ]
  },
  {
   "cell_type": "code",
   "execution_count": 737,
   "metadata": {},
   "outputs": [
    {
     "data": {
      "text/plain": [
       "{'a', 'b'}"
      ]
     },
     "execution_count": 737,
     "metadata": {},
     "output_type": "execute_result"
    }
   ],
   "source": [
    "my_set1.difference(my_set2)     #----------------returns the value that is not in set 2 but only in set 1."
   ]
  },
  {
   "cell_type": "code",
   "execution_count": 738,
   "metadata": {},
   "outputs": [
    {
     "data": {
      "text/plain": [
       "{'c', 'd', 'e'}"
      ]
     },
     "execution_count": 738,
     "metadata": {},
     "output_type": "execute_result"
    }
   ],
   "source": [
    "my_set1.intersection(my_set2)    #------------------returns the common items from set 1 and set 2."
   ]
  },
  {
   "cell_type": "code",
   "execution_count": 739,
   "metadata": {},
   "outputs": [
    {
     "data": {
      "text/plain": [
       "{'a', 'b'}"
      ]
     },
     "execution_count": 739,
     "metadata": {},
     "output_type": "execute_result"
    }
   ],
   "source": [
    "my_set1.symmetric_difference(my_set2)   #-----------------return every item from  both except common item."
   ]
  },
  {
   "cell_type": "code",
   "execution_count": 741,
   "metadata": {},
   "outputs": [
    {
     "data": {
      "text/plain": [
       "{'a', 'b', 'c', 'd', 'e'}"
      ]
     },
     "execution_count": 741,
     "metadata": {},
     "output_type": "execute_result"
    }
   ],
   "source": [
    "my_set1.union(my_set2)          #------------------------return every item from both set including common ones."
   ]
  },
  {
   "cell_type": "code",
   "execution_count": 745,
   "metadata": {},
   "outputs": [
    {
     "name": "stdout",
     "output_type": "stream",
     "text": [
      "{'b', 'a'}\n"
     ]
    }
   ],
   "source": [
    "my_set1.difference_update(my_set2)       #------------------removes every common items from set 1.\n",
    "print(my_set1)"
   ]
  },
  {
   "cell_type": "code",
   "execution_count": 748,
   "metadata": {},
   "outputs": [
    {
     "name": "stdout",
     "output_type": "stream",
     "text": [
      "set()\n"
     ]
    }
   ],
   "source": [
    "my_set1.intersection_update(my_set2)      #--------------------remove every difference item from set 1.\n",
    "print(my_set1)"
   ]
  },
  {
   "cell_type": "code",
   "execution_count": 753,
   "metadata": {},
   "outputs": [
    {
     "name": "stdout",
     "output_type": "stream",
     "text": [
      "{'d', 'e', 'c'}\n"
     ]
    }
   ],
   "source": [
    "my_set1.symmetric_difference_update(my_set2)    #----inserts all the non-commom item of set 1 and set 2 to set 1. \n",
    "print(my_set1)"
   ]
  },
  {
   "cell_type": "code",
   "execution_count": 756,
   "metadata": {},
   "outputs": [
    {
     "name": "stdout",
     "output_type": "stream",
     "text": [
      "{'c', 'd', 'e'}\n"
     ]
    }
   ],
   "source": [
    "my_set1.update(my_set2)                 #------------inserts all the item of set 2 to set 1.\n",
    "print(my_set1)"
   ]
  }
 ],
 "metadata": {
  "kernelspec": {
   "display_name": "Python 3",
   "language": "python",
   "name": "python3"
  },
  "language_info": {
   "codemirror_mode": {
    "name": "ipython",
    "version": 3
   },
   "file_extension": ".py",
   "mimetype": "text/x-python",
   "name": "python",
   "nbconvert_exporter": "python",
   "pygments_lexer": "ipython3",
   "version": "3.7.6"
  }
 },
 "nbformat": 4,
 "nbformat_minor": 4
}
